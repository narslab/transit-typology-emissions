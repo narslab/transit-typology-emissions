{
 "cells": [
  {
   "cell_type": "code",
   "execution_count": 1,
   "id": "3edf7a0e-a660-4158-adb2-2023ca5a9098",
   "metadata": {},
   "outputs": [],
   "source": [
    "import pandas as pd"
   ]
  },
  {
   "cell_type": "code",
   "execution_count": 2,
   "id": "dac229ae-dd46-4c20-bbad-e716e38eca51",
   "metadata": {},
   "outputs": [],
   "source": [
    "# Load the aggregated dataset\n",
    "file_path = r'../../data/tidy/NTD_Annual_Data_Tidy.csv'\n",
    "df_merged = pd.read_csv(file_path)"
   ]
  },
  {
   "cell_type": "code",
   "execution_count": null,
   "id": "f4c7dade-6712-48a2-a3c3-fa93dcc362cb",
   "metadata": {},
   "outputs": [],
   "source": []
  }
 ],
 "metadata": {
  "kernelspec": {
   "display_name": "Python 3 (ipykernel)",
   "language": "python",
   "name": "python3"
  },
  "language_info": {
   "codemirror_mode": {
    "name": "ipython",
    "version": 3
   },
   "file_extension": ".py",
   "mimetype": "text/x-python",
   "name": "python",
   "nbconvert_exporter": "python",
   "pygments_lexer": "ipython3",
   "version": "3.11.6"
  }
 },
 "nbformat": 4,
 "nbformat_minor": 5
}
